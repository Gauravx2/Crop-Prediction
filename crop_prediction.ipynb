{
 "cells": [
  {
   "cell_type": "code",
   "execution_count": 1,
   "id": "77d348cd-7d54-4d2c-8fca-dfcd46c2340b",
   "metadata": {
    "tags": []
   },
   "outputs": [],
   "source": [
    "import numpy as np\n",
    "import seaborn as sns\n",
    "import matplotlib.pyplot as plt\n",
    "from ipywidgets import interact\n",
    "import pandas as pd"
   ]
  },
  {
   "cell_type": "code",
   "execution_count": 3,
   "id": "d9d44a37-cb94-421f-ba36-ab07f6d42aff",
   "metadata": {
    "tags": []
   },
   "outputs": [
    {
     "data": {
      "text/html": [
       "<div>\n",
       "<style scoped>\n",
       "    .dataframe tbody tr th:only-of-type {\n",
       "        vertical-align: middle;\n",
       "    }\n",
       "\n",
       "    .dataframe tbody tr th {\n",
       "        vertical-align: top;\n",
       "    }\n",
       "\n",
       "    .dataframe thead th {\n",
       "        text-align: right;\n",
       "    }\n",
       "</style>\n",
       "<table border=\"1\" class=\"dataframe\">\n",
       "  <thead>\n",
       "    <tr style=\"text-align: right;\">\n",
       "      <th></th>\n",
       "      <th>N</th>\n",
       "      <th>P</th>\n",
       "      <th>K</th>\n",
       "      <th>temperature</th>\n",
       "      <th>humidity</th>\n",
       "      <th>ph</th>\n",
       "      <th>rainfall</th>\n",
       "      <th>label</th>\n",
       "    </tr>\n",
       "  </thead>\n",
       "  <tbody>\n",
       "    <tr>\n",
       "      <th>0</th>\n",
       "      <td>90</td>\n",
       "      <td>42</td>\n",
       "      <td>43</td>\n",
       "      <td>20.879744</td>\n",
       "      <td>82.002744</td>\n",
       "      <td>6.502985</td>\n",
       "      <td>202.935536</td>\n",
       "      <td>rice</td>\n",
       "    </tr>\n",
       "    <tr>\n",
       "      <th>1</th>\n",
       "      <td>85</td>\n",
       "      <td>58</td>\n",
       "      <td>41</td>\n",
       "      <td>21.770462</td>\n",
       "      <td>80.319644</td>\n",
       "      <td>7.038096</td>\n",
       "      <td>226.655537</td>\n",
       "      <td>rice</td>\n",
       "    </tr>\n",
       "    <tr>\n",
       "      <th>2</th>\n",
       "      <td>60</td>\n",
       "      <td>55</td>\n",
       "      <td>44</td>\n",
       "      <td>23.004459</td>\n",
       "      <td>82.320763</td>\n",
       "      <td>7.840207</td>\n",
       "      <td>263.964248</td>\n",
       "      <td>rice</td>\n",
       "    </tr>\n",
       "    <tr>\n",
       "      <th>3</th>\n",
       "      <td>74</td>\n",
       "      <td>35</td>\n",
       "      <td>40</td>\n",
       "      <td>26.491096</td>\n",
       "      <td>80.158363</td>\n",
       "      <td>6.980401</td>\n",
       "      <td>242.864034</td>\n",
       "      <td>rice</td>\n",
       "    </tr>\n",
       "    <tr>\n",
       "      <th>4</th>\n",
       "      <td>78</td>\n",
       "      <td>42</td>\n",
       "      <td>42</td>\n",
       "      <td>20.130175</td>\n",
       "      <td>81.604873</td>\n",
       "      <td>7.628473</td>\n",
       "      <td>262.717340</td>\n",
       "      <td>rice</td>\n",
       "    </tr>\n",
       "    <tr>\n",
       "      <th>...</th>\n",
       "      <td>...</td>\n",
       "      <td>...</td>\n",
       "      <td>...</td>\n",
       "      <td>...</td>\n",
       "      <td>...</td>\n",
       "      <td>...</td>\n",
       "      <td>...</td>\n",
       "      <td>...</td>\n",
       "    </tr>\n",
       "    <tr>\n",
       "      <th>956</th>\n",
       "      <td>7</td>\n",
       "      <td>23</td>\n",
       "      <td>35</td>\n",
       "      <td>19.750885</td>\n",
       "      <td>88.716912</td>\n",
       "      <td>7.054314</td>\n",
       "      <td>102.553804</td>\n",
       "      <td>pomegranate</td>\n",
       "    </tr>\n",
       "    <tr>\n",
       "      <th>957</th>\n",
       "      <td>12</td>\n",
       "      <td>20</td>\n",
       "      <td>39</td>\n",
       "      <td>19.861736</td>\n",
       "      <td>86.197409</td>\n",
       "      <td>6.026999</td>\n",
       "      <td>111.021793</td>\n",
       "      <td>pomegranate</td>\n",
       "    </tr>\n",
       "    <tr>\n",
       "      <th>958</th>\n",
       "      <td>4</td>\n",
       "      <td>19</td>\n",
       "      <td>43</td>\n",
       "      <td>18.071330</td>\n",
       "      <td>93.145549</td>\n",
       "      <td>5.779427</td>\n",
       "      <td>106.360202</td>\n",
       "      <td>pomegranate</td>\n",
       "    </tr>\n",
       "    <tr>\n",
       "      <th>959</th>\n",
       "      <td>3</td>\n",
       "      <td>9</td>\n",
       "      <td>45</td>\n",
       "      <td>23.891626</td>\n",
       "      <td>89.618502</td>\n",
       "      <td>6.535244</td>\n",
       "      <td>104.617522</td>\n",
       "      <td>pomegranate</td>\n",
       "    </tr>\n",
       "    <tr>\n",
       "      <th>960</th>\n",
       "      <td>1</td>\n",
       "      <td>27</td>\n",
       "      <td>36</td>\n",
       "      <td>23.985988</td>\n",
       "      <td>93.342366</td>\n",
       "      <td>5.684995</td>\n",
       "      <td>104.991282</td>\n",
       "      <td>pomegranate</td>\n",
       "    </tr>\n",
       "  </tbody>\n",
       "</table>\n",
       "<p>961 rows × 8 columns</p>\n",
       "</div>"
      ],
      "text/plain": [
       "      N   P   K  temperature   humidity        ph    rainfall        label\n",
       "0    90  42  43    20.879744  82.002744  6.502985  202.935536         rice\n",
       "1    85  58  41    21.770462  80.319644  7.038096  226.655537         rice\n",
       "2    60  55  44    23.004459  82.320763  7.840207  263.964248         rice\n",
       "3    74  35  40    26.491096  80.158363  6.980401  242.864034         rice\n",
       "4    78  42  42    20.130175  81.604873  7.628473  262.717340         rice\n",
       "..   ..  ..  ..          ...        ...       ...         ...          ...\n",
       "956   7  23  35    19.750885  88.716912  7.054314  102.553804  pomegranate\n",
       "957  12  20  39    19.861736  86.197409  6.026999  111.021793  pomegranate\n",
       "958   4  19  43    18.071330  93.145549  5.779427  106.360202  pomegranate\n",
       "959   3   9  45    23.891626  89.618502  6.535244  104.617522  pomegranate\n",
       "960   1  27  36    23.985988  93.342366  5.684995  104.991282  pomegranate\n",
       "\n",
       "[961 rows x 8 columns]"
      ]
     },
     "execution_count": 3,
     "metadata": {},
     "output_type": "execute_result"
    }
   ],
   "source": [
    "data=pd.read_csv('Agriculture.csv')\n",
    "data.head(961)"
   ]
  },
  {
   "cell_type": "code",
   "execution_count": 4,
   "id": "437f23a8-4072-4b3d-8f6f-62556981a1c6",
   "metadata": {
    "tags": []
   },
   "outputs": [
    {
     "data": {
      "text/plain": [
       "(2200, 8)"
      ]
     },
     "execution_count": 4,
     "metadata": {},
     "output_type": "execute_result"
    }
   ],
   "source": [
    "data.shape"
   ]
  },
  {
   "cell_type": "code",
   "execution_count": 5,
   "id": "953822b3-282f-4e5e-94ee-e25d792123a3",
   "metadata": {
    "tags": []
   },
   "outputs": [
    {
     "data": {
      "text/plain": [
       "N              0\n",
       "P              0\n",
       "K              0\n",
       "temperature    0\n",
       "humidity       0\n",
       "ph             0\n",
       "rainfall       0\n",
       "label          0\n",
       "dtype: int64"
      ]
     },
     "execution_count": 5,
     "metadata": {},
     "output_type": "execute_result"
    }
   ],
   "source": [
    "data.isnull().sum()"
   ]
  },
  {
   "cell_type": "code",
   "execution_count": 6,
   "id": "f4599d4a-e8fe-4b53-8655-1c69884d312b",
   "metadata": {
    "tags": []
   },
   "outputs": [
    {
     "data": {
      "text/plain": [
       "label\n",
       "rice           100\n",
       "maize          100\n",
       "jute           100\n",
       "cotton         100\n",
       "coconut        100\n",
       "papaya         100\n",
       "orange         100\n",
       "apple          100\n",
       "muskmelon      100\n",
       "watermelon     100\n",
       "grapes         100\n",
       "mango          100\n",
       "banana         100\n",
       "pomegranate    100\n",
       "lentil         100\n",
       "blackgram      100\n",
       "mungbean       100\n",
       "mothbeans      100\n",
       "pigeonpeas     100\n",
       "kidneybeans    100\n",
       "chickpea       100\n",
       "coffee         100\n",
       "Name: count, dtype: int64"
      ]
     },
     "execution_count": 6,
     "metadata": {},
     "output_type": "execute_result"
    }
   ],
   "source": [
    "data['label'].value_counts()"
   ]
  },
  {
   "cell_type": "code",
   "execution_count": 7,
   "id": "de97118b-f3b9-4099-a893-713004f0db0c",
   "metadata": {
    "tags": []
   },
   "outputs": [
    {
     "data": {
      "application/vnd.jupyter.widget-view+json": {
       "model_id": "c9a7b32678f9470fb7e982c554c2d10c",
       "version_major": 2,
       "version_minor": 0
      },
      "text/plain": [
       "interactive(children=(Dropdown(description='crops', options=('rice', 'maize', 'jute', 'cotton', 'coconut', 'pa…"
      ]
     },
     "metadata": {},
     "output_type": "display_data"
    }
   ],
   "source": [
    "@interact\n",
    "def summary(crops = list(data['label'].value_counts().index)):\n",
    "    x = data[data['label'] == crops]\n",
    "    print(\"---------------------------------------------\")\n",
    "    print(\"Statistics for nitrogen\")\n",
    "    print(\"Minimum amount of nitrogen required :\", x['N'].min())\n",
    "    print(\"average amount of nitrogen required :\", x['N'].mean())\n",
    "    print(\"Maximum amount of nitrogen required :\", x['N'].max())\n",
    "    \n",
    "    print(\"----------------------------------------------\")\n",
    "    print(\"Statistics for Phosphorus\")\n",
    "    print(\"Minimum amount of phosphorus required :\", x['P'].min())\n",
    "    print(\"average amount of phosphorus required :\", x['P'].mean())\n",
    "    print(\"Maximum amount of phosphorus required :\", x['P'].max())\n",
    "    \n",
    "    print(\"----------------------------------------------\")\n",
    "    print(\"Statistics for Potassium\")\n",
    "    print(\"Minimum amount of Potassium required :\", x['K'].min())\n",
    "    print(\"average amount of Potassium required :\", x['K'].mean())\n",
    "    print(\"Maximum amount of Potassium required :\", x['K'].max())\n",
    "\n",
    "    print(\"----------------------------------------------\")\n",
    "    print(\"Statistics for Temperature\")\n",
    "    print(\"Minimum amount of Temperature required :{0:.2f}\".format(x['temperature'].min()))\n",
    "    print(\"average amount of Temperature required :{0:.2f}\".format(x['temperature'].mean()))\n",
    "    print(\"Maximum amount of Temperature required :{0:.2f}\".format(x['temperature'].max()))\n",
    "\n",
    "    print(\"----------------------------------------------\")\n",
    "    print(\"Statistics for Humidity\")\n",
    "    print(\"Minimum Humidity required :{0:.2f}\".format(x['humidity'].min()))\n",
    "    print(\"average Humidity required :{0:.2f}\".format(x['humidity'].mean()))\n",
    "    print(\"Maximum Humidity required :{0:.2f}\".format(x['humidity'].max()))    \n",
    "    \n",
    "    print(\"----------------------------------------------\")\n",
    "    print(\"Statistics for ph\")\n",
    "    print(\"Minimum PH required :{0:.2f}\".format(x['ph'].min()))\n",
    "    print(\"average PH Temperature required :{0:.2f}\".format(x['ph'].mean()))\n",
    "    print(\"Maximum PH Temperature required :{0:.2f}\".format(x['ph'].max()))\n",
    "    \n",
    "    print(\"----------------------------------------------\")\n",
    "    print(\"Statistics for rainfall\")\n",
    "    print(\"Minimum rainfall required :{0:.2f}\".format(x['rainfall'].min()))\n",
    "    print(\"average rainfall Temperature required :{0:.2f}\".format(x['rainfall'].mean()))\n",
    "    print(\"Maximum rainfall Temperature required :{0:.2f}\".format(x['rainfall'].max()))"
   ]
  },
  {
   "cell_type": "code",
   "execution_count": 8,
   "id": "274c3a58-539f-4833-8e1f-ad245168e3b9",
   "metadata": {
    "tags": []
   },
   "outputs": [
    {
     "name": "stdout",
     "output_type": "stream",
     "text": [
      "summar crops\n",
      "['pigeonpeas' 'mothbeans' 'blackgram' 'mango' 'grapes' 'orange' 'papaya']\n",
      "-----------------------------------\n",
      "winter crops\n",
      "['maize' 'pigeonpeas' 'lentil' 'pomegranate' 'grapes' 'orange']\n",
      "-----------------------------------\n",
      "rainy crops\n",
      "['rice' 'papaya' 'coconut']\n"
     ]
    }
   ],
   "source": [
    "print(\"summar crops\")\n",
    "print(data[(data['temperature']>30) & (data['humidity']>50)]['label'].unique())\n",
    "print('-----------------------------------')\n",
    "print(\"winter crops\")\n",
    "print(data[(data['temperature']<20) & (data['humidity']>30)]['label'].unique())\n",
    "print('-----------------------------------')\n",
    "print(\"rainy crops\")\n",
    "print(data[(data['rainfall']>200) & (data['humidity']>30)]['label'].unique())\n"
   ]
  },
  {
   "cell_type": "code",
   "execution_count": 9,
   "id": "e0606e7e-478e-4f30-97ab-06562c2ad2ef",
   "metadata": {
    "tags": []
   },
   "outputs": [],
   "source": [
    "from sklearn.model_selection import train_test_split"
   ]
  },
  {
   "cell_type": "code",
   "execution_count": 10,
   "id": "afbf45c2-18a3-4a46-8bde-b77928fef021",
   "metadata": {
    "tags": []
   },
   "outputs": [],
   "source": [
    "X= data.iloc[:,:-1]"
   ]
  },
  {
   "cell_type": "code",
   "execution_count": 11,
   "id": "3e0eb0db-1376-480e-b5e0-f4b47cbbb073",
   "metadata": {
    "tags": []
   },
   "outputs": [],
   "source": [
    "y=data.iloc[:,-1:]"
   ]
  },
  {
   "cell_type": "code",
   "execution_count": 12,
   "id": "cfc64a98-b208-4c2e-9c33-b2397f7304dd",
   "metadata": {
    "tags": []
   },
   "outputs": [],
   "source": [
    "X_train,X_test,y_train,y_test=train_test_split(X,y,test_size=0.33,random_state=20)"
   ]
  },
  {
   "cell_type": "code",
   "execution_count": 13,
   "id": "89ea9ff2-f466-4b10-9214-e1f49971cf1a",
   "metadata": {
    "tags": []
   },
   "outputs": [],
   "source": [
    "from sklearn.ensemble import RandomForestClassifier\n",
    "rfc=RandomForestClassifier()"
   ]
  },
  {
   "cell_type": "code",
   "execution_count": 14,
   "id": "108267af-0d9f-460c-9a8e-6df82c6919b2",
   "metadata": {
    "tags": []
   },
   "outputs": [
    {
     "name": "stderr",
     "output_type": "stream",
     "text": [
      "C:\\ProgramData\\anaconda3\\Lib\\site-packages\\sklearn\\base.py:1151: DataConversionWarning: A column-vector y was passed when a 1d array was expected. Please change the shape of y to (n_samples,), for example using ravel().\n",
      "  return fit_method(estimator, *args, **kwargs)\n"
     ]
    }
   ],
   "source": [
    "rfc.fit(X_train,y_train)\n",
    "y_pred=rfc.predict(X_test)\n"
   ]
  },
  {
   "cell_type": "code",
   "execution_count": 15,
   "id": "7ac7bf2f-e6d3-449b-8a53-b2abbf9d16c8",
   "metadata": {
    "tags": []
   },
   "outputs": [],
   "source": [
    "from sklearn.metrics import accuracy_score,classification_report,precision_score,confusion_matrix"
   ]
  },
  {
   "cell_type": "code",
   "execution_count": 16,
   "id": "8d406191-b390-4503-8a2a-81b43dda28af",
   "metadata": {
    "tags": []
   },
   "outputs": [
    {
     "name": "stdout",
     "output_type": "stream",
     "text": [
      "0.9889807162534435\n",
      "              precision    recall  f1-score   support\n",
      "\n",
      "       apple       1.00      1.00      1.00        31\n",
      "      banana       1.00      1.00      1.00        30\n",
      "   blackgram       1.00      0.97      0.99        37\n",
      "    chickpea       1.00      1.00      1.00        37\n",
      "     coconut       1.00      1.00      1.00        35\n",
      "      coffee       1.00      1.00      1.00        39\n",
      "      cotton       1.00      1.00      1.00        37\n",
      "      grapes       1.00      1.00      1.00        23\n",
      "        jute       0.83      1.00      0.91        35\n",
      " kidneybeans       1.00      1.00      1.00        29\n",
      "      lentil       1.00      1.00      1.00        34\n",
      "       maize       0.97      1.00      0.98        28\n",
      "       mango       1.00      1.00      1.00        31\n",
      "   mothbeans       1.00      1.00      1.00        37\n",
      "    mungbean       1.00      1.00      1.00        39\n",
      "   muskmelon       1.00      1.00      1.00        26\n",
      "      orange       1.00      1.00      1.00        38\n",
      "      papaya       1.00      1.00      1.00        24\n",
      "  pigeonpeas       1.00      1.00      1.00        40\n",
      " pomegranate       1.00      1.00      1.00        28\n",
      "        rice       1.00      0.79      0.89        34\n",
      "  watermelon       1.00      1.00      1.00        34\n",
      "\n",
      "    accuracy                           0.99       726\n",
      "   macro avg       0.99      0.99      0.99       726\n",
      "weighted avg       0.99      0.99      0.99       726\n",
      "\n",
      "[[31  0  0  0  0  0  0  0  0  0  0  0  0  0  0  0  0  0  0  0  0  0]\n",
      " [ 0 30  0  0  0  0  0  0  0  0  0  0  0  0  0  0  0  0  0  0  0  0]\n",
      " [ 0  0 36  0  0  0  0  0  0  0  0  1  0  0  0  0  0  0  0  0  0  0]\n",
      " [ 0  0  0 37  0  0  0  0  0  0  0  0  0  0  0  0  0  0  0  0  0  0]\n",
      " [ 0  0  0  0 35  0  0  0  0  0  0  0  0  0  0  0  0  0  0  0  0  0]\n",
      " [ 0  0  0  0  0 39  0  0  0  0  0  0  0  0  0  0  0  0  0  0  0  0]\n",
      " [ 0  0  0  0  0  0 37  0  0  0  0  0  0  0  0  0  0  0  0  0  0  0]\n",
      " [ 0  0  0  0  0  0  0 23  0  0  0  0  0  0  0  0  0  0  0  0  0  0]\n",
      " [ 0  0  0  0  0  0  0  0 35  0  0  0  0  0  0  0  0  0  0  0  0  0]\n",
      " [ 0  0  0  0  0  0  0  0  0 29  0  0  0  0  0  0  0  0  0  0  0  0]\n",
      " [ 0  0  0  0  0  0  0  0  0  0 34  0  0  0  0  0  0  0  0  0  0  0]\n",
      " [ 0  0  0  0  0  0  0  0  0  0  0 28  0  0  0  0  0  0  0  0  0  0]\n",
      " [ 0  0  0  0  0  0  0  0  0  0  0  0 31  0  0  0  0  0  0  0  0  0]\n",
      " [ 0  0  0  0  0  0  0  0  0  0  0  0  0 37  0  0  0  0  0  0  0  0]\n",
      " [ 0  0  0  0  0  0  0  0  0  0  0  0  0  0 39  0  0  0  0  0  0  0]\n",
      " [ 0  0  0  0  0  0  0  0  0  0  0  0  0  0  0 26  0  0  0  0  0  0]\n",
      " [ 0  0  0  0  0  0  0  0  0  0  0  0  0  0  0  0 38  0  0  0  0  0]\n",
      " [ 0  0  0  0  0  0  0  0  0  0  0  0  0  0  0  0  0 24  0  0  0  0]\n",
      " [ 0  0  0  0  0  0  0  0  0  0  0  0  0  0  0  0  0  0 40  0  0  0]\n",
      " [ 0  0  0  0  0  0  0  0  0  0  0  0  0  0  0  0  0  0  0 28  0  0]\n",
      " [ 0  0  0  0  0  0  0  0  7  0  0  0  0  0  0  0  0  0  0  0 27  0]\n",
      " [ 0  0  0  0  0  0  0  0  0  0  0  0  0  0  0  0  0  0  0  0  0 34]]\n"
     ]
    }
   ],
   "source": [
    "print(accuracy_score(y_test,y_pred))\n",
    "print(classification_report(y_test,y_pred))\n",
    "\n",
    "print(confusion_matrix(y_test,y_pred))"
   ]
  },
  {
   "cell_type": "code",
   "execution_count": 17,
   "id": "035747f6-13f8-4a39-a385-3c00099c1a85",
   "metadata": {
    "tags": []
   },
   "outputs": [
    {
     "data": {
      "text/plain": [
       "N               40.000000\n",
       "P                5.000000\n",
       "K               29.000000\n",
       "temperature     28.484449\n",
       "humidity        97.768655\n",
       "ph               5.820979\n",
       "rainfall       160.389421\n",
       "Name: 1841, dtype: float64"
      ]
     },
     "execution_count": 17,
     "metadata": {},
     "output_type": "execute_result"
    }
   ],
   "source": [
    "X_test.iloc[0]"
   ]
  },
  {
   "cell_type": "code",
   "execution_count": 18,
   "id": "51eaf042-8a87-4734-b9ba-839b00dd7af3",
   "metadata": {
    "tags": []
   },
   "outputs": [
    {
     "data": {
      "text/plain": [
       "label    coconut\n",
       "Name: 1841, dtype: object"
      ]
     },
     "execution_count": 18,
     "metadata": {},
     "output_type": "execute_result"
    }
   ],
   "source": [
    "y_test.iloc[0]"
   ]
  },
  {
   "cell_type": "code",
   "execution_count": 19,
   "id": "809ec16c-40ce-468c-b7a9-0c0a76f97397",
   "metadata": {
    "tags": []
   },
   "outputs": [],
   "source": [
    "v=[40,5,23,28,97,6,160]"
   ]
  },
  {
   "cell_type": "code",
   "execution_count": 20,
   "id": "ed23bd4c-ad80-4472-bc8d-2d143a60ca35",
   "metadata": {
    "tags": []
   },
   "outputs": [
    {
     "name": "stdout",
     "output_type": "stream",
     "text": [
      "Best crop for given condition: muskmelon\n"
     ]
    },
    {
     "name": "stderr",
     "output_type": "stream",
     "text": [
      "C:\\ProgramData\\anaconda3\\Lib\\site-packages\\sklearn\\base.py:464: UserWarning: X does not have valid feature names, but RandomForestClassifier was fitted with feature names\n",
      "  warnings.warn(\n"
     ]
    }
   ],
   "source": [
    "new_data = {\n",
    "    'N': 41.000000,\n",
    "    'P': 5.000000,\n",
    "    'K': 29.000000,\n",
    "    'temperature': 28.484449,\n",
    "    'humidity': 97.768655,\n",
    "    'ph': 5.820979,\n",
    "    'rainfall': 1.389421\n",
    "}\n",
    "\n",
    "# Use the RandomForestClassifier object to make predictions\n",
    "prediction = rfc.predict([list(new_data.values())])[0]\n",
    "\n",
    "# Print the prediction\n",
    "print(\"Best crop for given condition:\", prediction)"
   ]
  },
  {
   "cell_type": "code",
   "execution_count": null,
   "id": "9cdf8ea3-0efd-4171-a97c-f41fcf4c6ff9",
   "metadata": {},
   "outputs": [],
   "source": []
  },
  {
   "cell_type": "code",
   "execution_count": null,
   "id": "d914cf91-8c9e-4c92-ab55-4e14c761191a",
   "metadata": {},
   "outputs": [],
   "source": []
  },
  {
   "cell_type": "code",
   "execution_count": null,
   "id": "983d91e4-43bd-4e7d-8400-6b697c13dd9d",
   "metadata": {},
   "outputs": [],
   "source": []
  },
  {
   "cell_type": "code",
   "execution_count": null,
   "id": "7018d8c3-ded4-484e-a70d-f5e9f49e2d27",
   "metadata": {},
   "outputs": [],
   "source": []
  },
  {
   "cell_type": "code",
   "execution_count": null,
   "id": "824e3fbe-adf7-4c81-b77c-32627a96b38b",
   "metadata": {},
   "outputs": [],
   "source": []
  },
  {
   "cell_type": "code",
   "execution_count": null,
   "id": "3624d1d0-545d-4343-8a7b-d3e3aa2392e4",
   "metadata": {},
   "outputs": [],
   "source": []
  },
  {
   "cell_type": "code",
   "execution_count": null,
   "id": "a7f77848-90c1-4c34-a44f-b308de1944da",
   "metadata": {},
   "outputs": [],
   "source": []
  },
  {
   "cell_type": "code",
   "execution_count": null,
   "id": "f010335c-e5d3-432f-9a45-cc7aabc2b350",
   "metadata": {},
   "outputs": [],
   "source": []
  }
 ],
 "metadata": {
  "kernelspec": {
   "display_name": "Python 3 (ipykernel)",
   "language": "python",
   "name": "python3"
  },
  "language_info": {
   "codemirror_mode": {
    "name": "ipython",
    "version": 3
   },
   "file_extension": ".py",
   "mimetype": "text/x-python",
   "name": "python",
   "nbconvert_exporter": "python",
   "pygments_lexer": "ipython3",
   "version": "3.11.5"
  }
 },
 "nbformat": 4,
 "nbformat_minor": 5
}
